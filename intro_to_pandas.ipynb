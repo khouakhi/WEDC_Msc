{
  "nbformat": 4,
  "nbformat_minor": 0,
  "metadata": {
    "colab": {
      "name": "intro_to_pandas.ipynb",
      "provenance": [],
      "collapsed_sections": [
        "JndnmDMp66FL",
        "YHIWvc9Ms-Ll",
        "TJffr5_Jwqvd"
      ],
      "toc_visible": true,
      "include_colab_link": true
    },
    "kernelspec": {
      "name": "python3",
      "display_name": "Python 3"
    }
  },
  "cells": [
    {
      "cell_type": "markdown",
      "metadata": {
        "id": "view-in-github",
        "colab_type": "text"
      },
      "source": [
        "<a href=\"https://colab.research.google.com/github/khouakhi/WEDC_Msc/blob/master/intro_to_pandas.ipynb\" target=\"_parent\"><img src=\"https://colab.research.google.com/assets/colab-badge.svg\" alt=\"Open In Colab\"/></a>"
      ]
    },
    {
      "cell_type": "markdown",
      "metadata": {
        "colab_type": "text",
        "id": "JndnmDMp66FL"
      },
      "source": [
        "#### "
      ]
    },
    {
      "cell_type": "markdown",
      "metadata": {
        "colab_type": "text",
        "id": "rHLcriKWLRe4"
      },
      "source": [
        "# Intro to pandas"
      ]
    },
    {
      "cell_type": "markdown",
      "metadata": {
        "colab_type": "text",
        "id": "QvJBqX8_Bctk"
      },
      "source": [
        "**Learning Objectives:**\n",
        "  * Gain an introduction to the `DataFrame` and `Series` data structures of the *pandas* library\n",
        "  * Access and manipulate data within a `DataFrame` and `Series`\n",
        "  * Import CSV data into a *pandas* `DataFrame`\n",
        "  * Reindex a `DataFrame` to shuffle data"
      ]
    },
    {
      "cell_type": "markdown",
      "metadata": {
        "colab_type": "text",
        "id": "TIFJ83ZTBctl"
      },
      "source": [
        "[*pandas*](http://pandas.pydata.org/) is a column-oriented data analysis API. It's a great tool for handling and analyzing input data, and many ML frameworks support *pandas* data structures as inputs.\n",
        "Although a comprehensive introduction to the *pandas* API would span many pages, the core concepts are fairly straightforward, and we'll present them below. For a more complete reference, the [*pandas* docs site](http://pandas.pydata.org/pandas-docs/stable/index.html) contains extensive documentation and many tutorials."
      ]
    },
    {
      "cell_type": "markdown",
      "metadata": {
        "colab_type": "text",
        "id": "s_JOISVgmn9v"
      },
      "source": [
        "## using water levl data\n",
        "\n",
        "The following line imports the *pandas* API and prints the API version:"
      ]
    },
    {
      "cell_type": "code",
      "metadata": {
        "colab_type": "code",
        "id": "aSRYu62xUi3g",
        "outputId": "74a2a75f-cbdd-48db-ef35-0713d1cef2b8",
        "colab": {
          "base_uri": "https://localhost:8080/",
          "height": 34
        }
      },
      "source": [
        "import pandas as pd\n",
        "import os\n",
        "import matplotlib.pyplot as plt\n",
        "\n",
        "pd.__version__"
      ],
      "execution_count": 1,
      "outputs": [
        {
          "output_type": "execute_result",
          "data": {
            "text/plain": [
              "'0.25.3'"
            ]
          },
          "metadata": {
            "tags": []
          },
          "execution_count": 1
        }
      ]
    },
    {
      "cell_type": "code",
      "metadata": {
        "id": "qLZsCqrekOPn",
        "colab_type": "code",
        "colab": {}
      },
      "source": [
        "from google.colab import drive\n",
        "drive.mount('/content/drive')"
      ],
      "execution_count": 0,
      "outputs": []
    },
    {
      "cell_type": "markdown",
      "metadata": {
        "colab_type": "text",
        "id": "daQreKXIUslr"
      },
      "source": [
        "The primary data structures in *pandas* are implemented as two classes:\n",
        "\n",
        "  * **`DataFrame`**, which you can imagine as a relational data table, with rows and named columns.\n",
        "  * **`Series`**, which is a single column. A `DataFrame` contains one or more `Series` and a name for each `Series`.\n",
        "\n",
        "The data frame is a commonly used abstraction for data manipulation. Similar implementations exist in [Spark](https://spark.apache.org/) and [R](https://www.r-project.org/about.html)."
      ]
    },
    {
      "cell_type": "markdown",
      "metadata": {
        "colab_type": "text",
        "id": "fjnAk1xcU0yc"
      },
      "source": [
        "One way to create a `Series` is to construct a `Series` object. For example:"
      ]
    },
    {
      "cell_type": "code",
      "metadata": {
        "colab_type": "code",
        "id": "DFZ42Uq7UFDj",
        "colab": {
          "base_uri": "https://localhost:8080/",
          "height": 34
        },
        "outputId": "a4e90d4b-4748-498b-efae-fc8bbd712993"
      },
      "source": [
        "rainfall_source = '/content/drive/My Drive/data/rainfall'\n",
        "\n",
        "file_name = 'Burton on the Wolds 3629 15 Minute Rainfall.csv'\n",
        "usecols = range(8)\n",
        "\n",
        "#dateparser = lambda x: pd.datetime.strptime(x,'%d/%m/%Y %H:%M:%S')\n",
        "\n",
        "data = pd.read_csv(os.path.join(rainfall_source,file_name),\n",
        "                   skiprows = 20,\n",
        "                   #parse_dates=['Time stamp']\n",
        "                   usecols = usecols)\n",
        "\n",
        "print(data.dtypes)\n",
        "print(data.describe())\n",
        "print(data.columns)\n",
        "\n",
        "# rename variables \n",
        "new_columns = ['time_stamp','rainfall', 'state','interp',\n",
        "               'valid','invalid', 'missing', 'tags']\n",
        "data.columns = new_columns\n",
        "# remove the wrong rows\n",
        "data.isna().any()\n",
        "# remove the wrong rows\n",
        "data= data[data.time_stamp != 'Raingauge Frozen']\n",
        "# parse datetime\n",
        "data['time_stamp'] = pd.to_datetime(data['time_stamp'], format='%d/%m/%Y %H:%M:%S')\n",
        "# convert stage to numeric\n",
        "data['rainfall'] = data['rainfall'].apply(pd.to_numeric, errors='coerce')\n",
        "# set index\n",
        "data = data.set_index('time_stamp')\n",
        "\n",
        "print(data.describe())\n",
        "# check the data state\n",
        "data.state.unique()\n",
        "\n",
        "hourly_precip = data[['rainfall']].resample('h').sum()\n",
        "\n",
        "digits = [int(i) for i in file_name.split() if i.isdigit()]\n",
        "\n",
        "new_name_path = os.path.join(rainfall_source,f'{digits[0]}.csv')\n",
        "\n",
        "if os.path.isfile(new_name_path):\n",
        "  hourly_precip.to_csv(new_name_path), mode='a', header=False)\n",
        "else:\n",
        "  hourly_precip.to_csv(os.path.join(rainfall_source,f'{digits[0]}.csv'))"
      ],
      "execution_count": 88,
      "outputs": [
        {
          "output_type": "execute_result",
          "data": {
            "text/plain": [
              "True"
            ]
          },
          "metadata": {
            "tags": []
          },
          "execution_count": 88
        }
      ]
    },
    {
      "cell_type": "code",
      "metadata": {
        "id": "LOco9QevYbcj",
        "colab_type": "code",
        "colab": {}
      },
      "source": [
        "# Plot the data \n",
        "fig, ax = plt.subplots(figsize = (10,8))\n",
        "ax.plot(hourly_precip['01-2010'])\n",
        "ax.set(xlabel='Date', ylabel='Precipitation (mm)',\n",
        "       title=\"hourly rainfall\")\n",
        "plt.show()"
      ],
      "execution_count": 0,
      "outputs": []
    },
    {
      "cell_type": "markdown",
      "metadata": {
        "colab_type": "text",
        "id": "U5ouUp1cU6pC"
      },
      "source": [
        "`DataFrame` objects can be created by passing a `dict` mapping `string` column names to their respective `Series`. If the `Series` don't match in length, missing values are filled with special [NA/NaN](http://pandas.pydata.org/pandas-docs/stable/missing_data.html) values. Example:"
      ]
    },
    {
      "cell_type": "code",
      "metadata": {
        "id": "CCJyYCGUbUMM",
        "colab_type": "code",
        "colab": {}
      },
      "source": [
        ""
      ],
      "execution_count": 0,
      "outputs": []
    },
    {
      "cell_type": "code",
      "metadata": {
        "colab_type": "code",
        "id": "xo_MNVU9d57T",
        "colab": {}
      },
      "source": [
        "rainfall_source = '/content/drive/My Drive/data/rainfall'\n",
        "# define a function that reads and prepare the rainfall data \n",
        "def data_prep(dir_path,file_name):\n",
        "  data = pd.read_csv(os.path.join(dir_path,file_name),\n",
        "                    skiprows = 20,\n",
        "                    #parse_dates=['Time stamp']\n",
        "                    usecols =  range(8))\n",
        "  print('the imported file is: %s' % file_name)\n",
        "  # rename variables \n",
        "  new_columns = ['time_stamp','rainfall', 'state','interp',\n",
        "                'valid','invalid', 'missing', 'tags']\n",
        "  data.columns = new_columns\n",
        "  # convert stage to numeric\n",
        "  data['rainfall'] = data['rainfall'].apply(pd.to_numeric, errors='coerce')\n",
        "  # drop Nas from rainfall column\n",
        "  data.dropna(subset=['rainfall'], how='all', inplace=True) \n",
        "  # parse datetime\n",
        "  data['time_stamp'] = pd.to_datetime(data['time_stamp'], format='%d/%m/%Y %H:%M:%S')\n",
        "  # set date time as index\n",
        "  data = data.set_index('time_stamp')\n",
        "  # aggregate data to hourly \n",
        "  print('now resample rainfall to hourly time series....')\n",
        "  hourly_precip = data[['rainfall']].resample('h').sum()\n",
        "  print('done!')\n",
        "  return(hourly_precip)\n",
        "# create new folder for the processed precip data\n",
        "precip_out_path = '/content/drive/My Drive/data/precip_proc1/'\n",
        "try:\n",
        "    os.mkdir(precip_out_path)\n",
        "except OSError:\n",
        "    print (\"file exists already %s:\" % precip_out_path)\n",
        "else:\n",
        "    print (\"Successfully created the directory %s \" % precip_out_path)\n",
        "\n",
        "# list precip files\n",
        "file_names = os.listdir(rainfall_source)\n",
        "# iterate through all rainfall files  \n",
        "for f in file_names:\n",
        "  hourly_precip = data_prep(rainfall_source,f)\n",
        "  # extract the station ID from the file name \n",
        "  digi_name = [int(i) for i in f.split() if i.isdigit()]\n",
        "  # new name path\n",
        "  new_name_path = os.path.join(precip_out_path,f'P{digi_name[0]}.csv')\n",
        "  # if the file exists append, if not create new\n",
        "  if os.path.isfile(new_name_path):\n",
        "    hourly_precip.to_csv(new_name_path, mode='a', header=False)\n",
        "  else:\n",
        "    hourly_precip.to_csv(os.path.join(precip_out_path,f'P{digi_name[0]}.csv'))"
      ],
      "execution_count": 0,
      "outputs": []
    },
    {
      "cell_type": "markdown",
      "metadata": {
        "colab_type": "text",
        "id": "WrkBjfz5kEQu"
      },
      "source": [
        "The example above used `DataFrame.describe` to show interesting statistics about a `DataFrame`. Another useful function is `DataFrame.head`, which displays the first few records of a `DataFrame`:"
      ]
    },
    {
      "cell_type": "markdown",
      "metadata": {
        "colab_type": "text",
        "id": "lJqazeORRuxi"
      },
      "source": [
        "[NumPy](http://www.numpy.org/) is a popular toolkit for scientific computing. *pandas* `Series` can be used as arguments to most NumPy functions:"
      ]
    }
  ]
}